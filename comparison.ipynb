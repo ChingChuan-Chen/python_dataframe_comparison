{
 "cells": [
  {
   "cell_type": "code",
   "execution_count": 2,
   "metadata": {},
   "outputs": [
    {
     "name": "stdout",
     "output_type": "stream",
     "text": [
      "2340\n"
     ]
    }
   ],
   "source": [
    "import random\n",
    "import re\n",
    "from essential_generators import DocumentGenerator\n",
    "random.seed(42) # for reproducibility\n",
    "n = 300_000\n",
    "\n",
    "# Generate random sentences\n",
    "gen = DocumentGenerator()\n",
    "sentences = [gen.sentence() for _ in range(n)]\n",
    "\n",
    "# get random keywords\n",
    "def get_random_keyword(splitted_words):\n",
    "    kw = splitted_words[random.randint(0, len(splitted_words)-1)]\n",
    "    if re.match(r'^[a-zA-Z]+$', kw):\n",
    "        return kw\n",
    "    else:\n",
    "        return ''\n",
    "\n",
    "keywords = list(set([get_random_keyword(sentences[random.randint(0, n-1)].split(\" \")) for _ in range(6000)]).difference({''}))\n",
    "print(len(keywords)) # 2340"
   ]
  },
  {
   "cell_type": "code",
   "execution_count": 3,
   "metadata": {},
   "outputs": [],
   "source": [
    "import polars as pl\n",
    "import pandas as pd\n",
    "import numpy as np\n",
    "import duckdb\n",
    "import dask\n",
    "import dask.dataframe as dd"
   ]
  },
  {
   "cell_type": "code",
   "execution_count": 4,
   "metadata": {},
   "outputs": [
    {
     "name": "stdout",
     "output_type": "stream",
     "text": [
      "polas version: 0.17.13\n",
      "pandas version: 2.0.1\n",
      "numpy version: 1.23.5\n",
      "duckdb version: 0.7.1\n",
      "dask version: 2023.5.0\n"
     ]
    }
   ],
   "source": [
    "print(\"polas version: %s\" % (pl.__version__))\n",
    "print(\"pandas version: %s\" % (pd.__version__))\n",
    "print(\"numpy version: %s\" % (np.__version__))\n",
    "print(\"duckdb version: %s\" % (duckdb.__version__))\n",
    "print(\"dask version: %s\" % (dask.__version__))"
   ]
  },
  {
   "cell_type": "code",
   "execution_count": 8,
   "metadata": {},
   "outputs": [
    {
     "name": "stdout",
     "output_type": "stream",
     "text": [
      "1.21 s ± 59.3 ms per loop (mean ± std. dev. of 5 runs, 3 loops each)\n"
     ]
    }
   ],
   "source": [
    "%%timeit -n 3 -r 5\n",
    "# polars\n",
    "df = pl.DataFrame({'sentence': sentences})\n",
    "res_df = df.with_columns([pl.col('sentence').str.contains(keyword).alias(keyword) for keyword in keywords]).to_pandas()\n",
    "# 1.21 s ± 59.3 ms per loop (mean ± std. dev. of 5 runs, 3 loops each)"
   ]
  },
  {
   "cell_type": "code",
   "execution_count": null,
   "metadata": {},
   "outputs": [],
   "source": [
    "%%timeit -n 1 -r 1\n",
    "# pandas - a\n",
    "sentence_df = pd.DataFrame({'sentence': sentences})\n",
    "df = sentence_df.reindex(columns=['sentence'] + keywords, fill_value=False)\n",
    "for kw in keywords:\n",
    "  df.loc[df[\"sentence\"].str.contains(kw), kw] = True\n",
    "# > 2 minutes per loop"
   ]
  },
  {
   "cell_type": "code",
   "execution_count": null,
   "metadata": {},
   "outputs": [],
   "source": [
    "%%timeit -n 1 -r 1\n",
    "# pandas - b\n",
    "df = pd.DataFrame({'sentence': sentences})\n",
    "for kw in keywords:\n",
    "  df[kw] = df[\"sentence\"].str.contains(kw)\n",
    "# > 2 minutes per loop"
   ]
  },
  {
   "cell_type": "code",
   "execution_count": null,
   "metadata": {},
   "outputs": [],
   "source": [
    "%%timeit -n 1 -r 1\n",
    "# pandas - c\n",
    "sentence_df = pd.DataFrame({'sentence': sentences})\n",
    "df = sentence_df.reindex(columns=['sentence'] + keywords, fill_value=False)\n",
    "for kw in keywords:\n",
    "  for i in np.where(df[\"sentence\"].str.contains(kw))[0]:\n",
    "    df.at[i, kw] = True\n",
    "# > 2 minutes per loop"
   ]
  },
  {
   "cell_type": "code",
   "execution_count": 9,
   "metadata": {},
   "outputs": [
    {
     "data": {
      "application/vnd.jupyter.widget-view+json": {
       "model_id": "3c148c09c18248e6a83817600abf91cc",
       "version_major": 2,
       "version_minor": 0
      },
      "text/plain": [
       "FloatProgress(value=0.0, layout=Layout(width='100%'), style=ProgressStyle(bar_color='black'))"
      ]
     },
     "metadata": {},
     "output_type": "display_data"
    },
    {
     "data": {
      "application/vnd.jupyter.widget-view+json": {
       "model_id": "2dcc85fb1082469aa60f6ceb46567b13",
       "version_major": 2,
       "version_minor": 0
      },
      "text/plain": [
       "FloatProgress(value=0.0, layout=Layout(width='100%'), style=ProgressStyle(bar_color='black'))"
      ]
     },
     "metadata": {},
     "output_type": "display_data"
    },
    {
     "data": {
      "application/vnd.jupyter.widget-view+json": {
       "model_id": "a37512bd739b48ce8936a96201ccbc1b",
       "version_major": 2,
       "version_minor": 0
      },
      "text/plain": [
       "FloatProgress(value=0.0, layout=Layout(width='100%'), style=ProgressStyle(bar_color='black'))"
      ]
     },
     "metadata": {},
     "output_type": "display_data"
    },
    {
     "data": {
      "application/vnd.jupyter.widget-view+json": {
       "model_id": "61c6d823cbe444788548be83b9d77a67",
       "version_major": 2,
       "version_minor": 0
      },
      "text/plain": [
       "FloatProgress(value=0.0, layout=Layout(width='100%'), style=ProgressStyle(bar_color='black'))"
      ]
     },
     "metadata": {},
     "output_type": "display_data"
    },
    {
     "data": {
      "application/vnd.jupyter.widget-view+json": {
       "model_id": "9444cf06078c41c083cf82e3b932a113",
       "version_major": 2,
       "version_minor": 0
      },
      "text/plain": [
       "FloatProgress(value=0.0, layout=Layout(width='100%'), style=ProgressStyle(bar_color='black'))"
      ]
     },
     "metadata": {},
     "output_type": "display_data"
    },
    {
     "data": {
      "application/vnd.jupyter.widget-view+json": {
       "model_id": "7ac0329dde124111b06220eaefbedd43",
       "version_major": 2,
       "version_minor": 0
      },
      "text/plain": [
       "FloatProgress(value=0.0, layout=Layout(width='100%'), style=ProgressStyle(bar_color='black'))"
      ]
     },
     "metadata": {},
     "output_type": "display_data"
    },
    {
     "name": "stdout",
     "output_type": "stream",
     "text": [
      "24.4 s ± 177 ms per loop (mean ± std. dev. of 2 runs, 3 loops each)\n"
     ]
    }
   ],
   "source": [
    "%%timeit -n 3 -r 2\n",
    "# duckdb\n",
    "df = pd.DataFrame({'sentence': sentences})\n",
    "query_sql = \"select sentence,\" + \",\".join([f\"case when sentence like '%{keyword}%' then TRUE else FALSE end as {keyword}\" for keyword in keywords]) + \" from df\"\n",
    "res_df = duckdb.sql(query_sql).to_df()\n",
    "# 24.4 s ± 177 ms per loop (mean ± std. dev. of 2 runs, 3 loops each)"
   ]
  },
  {
   "cell_type": "code",
   "execution_count": null,
   "metadata": {},
   "outputs": [],
   "source": [
    "%%timeit -n 1 -r 1\n",
    "# numpy - a\n",
    "out_arr = np.zeros((len(sentence_df), len(keywords)), dtype=bool)\n",
    "for j, kw in enumerate(keywords):\n",
    "  out_arr[[i for i, s in enumerate(sentences) if s.find(kw) > 0], j] = True\n",
    "# 4min 23s ± 0 ns per loop (mean ± std. dev. of 1 run, 1 loop each)"
   ]
  },
  {
   "cell_type": "code",
   "execution_count": null,
   "metadata": {},
   "outputs": [],
   "source": [
    "%%timeit -n 1 -r 1\n",
    "# numpy - b\n",
    "sentences_np = np.array(sentences)\n",
    "out_arr = np.zeros((len(sentence_df), len(keywords)), dtype=bool)\n",
    "for j, kw in enumerate(keywords):\n",
    "  out_arr[np.char.find(sentences_np, kw) >= 0, j] = True\n",
    "# > 6 minutes per loop"
   ]
  },
  {
   "cell_type": "code",
   "execution_count": null,
   "metadata": {},
   "outputs": [],
   "source": [
    "!python setup.py build_ext --inplace --force"
   ]
  },
  {
   "cell_type": "code",
   "execution_count": 4,
   "metadata": {},
   "outputs": [],
   "source": [
    "import contained_keyword\n",
    "sentences_np = np.array(sentences)\n",
    "keywords_np = np.array(keywords)"
   ]
  },
  {
   "cell_type": "code",
   "execution_count": 6,
   "metadata": {},
   "outputs": [
    {
     "name": "stdout",
     "output_type": "stream",
     "text": [
      "1.73 s ± 14.7 ms per loop (mean ± std. dev. of 3 runs, 5 loops each)\n"
     ]
    }
   ],
   "source": [
    "%%timeit -n 5 -r 3\n",
    "# Cython + numpy\n",
    "out_arr = contained_keyword.build_binary_matrix(sentences_np, keywords_np)\n",
    "# 1.73 s ± 14.7 ms per loop (mean ± std. dev. of 3 runs, 5 loops each)"
   ]
  }
 ],
 "metadata": {
  "kernelspec": {
   "display_name": "base",
   "language": "python",
   "name": "python3"
  },
  "language_info": {
   "codemirror_mode": {
    "name": "ipython",
    "version": 3
   },
   "file_extension": ".py",
   "mimetype": "text/x-python",
   "name": "python",
   "nbconvert_exporter": "python",
   "pygments_lexer": "ipython3",
   "version": "3.10.9"
  },
  "orig_nbformat": 4,
  "vscode": {
   "interpreter": {
    "hash": "3c06e3e46abf38078fe4dac36a0085ec2b134ebbd73dd076183d243eeca6918f"
   }
  }
 },
 "nbformat": 4,
 "nbformat_minor": 2
}
